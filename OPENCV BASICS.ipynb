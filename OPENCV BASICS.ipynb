{
 "cells": [
  {
   "cell_type": "code",
   "execution_count": 1,
   "metadata": {},
   "outputs": [],
   "source": [
    "import cv2"
   ]
  },
  {
   "cell_type": "code",
   "execution_count": 2,
   "metadata": {},
   "outputs": [],
   "source": [
    "img=cv2.imread(\"shivi.jpg\")"
   ]
  },
  {
   "cell_type": "code",
   "execution_count": 3,
   "metadata": {},
   "outputs": [
    {
     "data": {
      "text/plain": [
       "array([[[33, 33, 33],\n",
       "        [33, 33, 33],\n",
       "        [33, 33, 33],\n",
       "        ...,\n",
       "        [33, 33, 33],\n",
       "        [33, 33, 33],\n",
       "        [33, 33, 33]],\n",
       "\n",
       "       [[33, 33, 33],\n",
       "        [33, 33, 33],\n",
       "        [33, 33, 33],\n",
       "        ...,\n",
       "        [33, 33, 33],\n",
       "        [33, 33, 33],\n",
       "        [33, 33, 33]],\n",
       "\n",
       "       [[33, 33, 33],\n",
       "        [33, 33, 33],\n",
       "        [33, 33, 33],\n",
       "        ...,\n",
       "        [33, 33, 33],\n",
       "        [33, 33, 33],\n",
       "        [33, 33, 33]],\n",
       "\n",
       "       ...,\n",
       "\n",
       "       [[18, 15,  7],\n",
       "        [18, 15,  7],\n",
       "        [18, 15,  7],\n",
       "        ...,\n",
       "        [38, 28, 21],\n",
       "        [38, 28, 21],\n",
       "        [38, 28, 21]],\n",
       "\n",
       "       [[18, 15,  7],\n",
       "        [18, 15,  7],\n",
       "        [18, 15,  7],\n",
       "        ...,\n",
       "        [38, 28, 21],\n",
       "        [38, 28, 21],\n",
       "        [38, 28, 21]],\n",
       "\n",
       "       [[18, 15,  7],\n",
       "        [18, 15,  7],\n",
       "        [18, 15,  7],\n",
       "        ...,\n",
       "        [38, 28, 21],\n",
       "        [38, 28, 21],\n",
       "        [38, 28, 21]]], dtype=uint8)"
      ]
     },
     "execution_count": 3,
     "metadata": {},
     "output_type": "execute_result"
    }
   ],
   "source": [
    "img"
   ]
  },
  {
   "cell_type": "code",
   "execution_count": 4,
   "metadata": {},
   "outputs": [
    {
     "name": "stdout",
     "output_type": "stream",
     "text": [
      "img_shape= (1280, 720, 3)\n"
     ]
    }
   ],
   "source": [
    "print(\"img_shape=\",img.shape)"
   ]
  },
  {
   "cell_type": "code",
   "execution_count": 5,
   "metadata": {},
   "outputs": [],
   "source": [
    "cv2.imshow(\"show_img\",img)"
   ]
  },
  {
   "cell_type": "code",
   "execution_count": 6,
   "metadata": {},
   "outputs": [],
   "source": [
    "#gray image conversion \n",
    "#way -1\n",
    "gray_img1=cv2.cvtColor(img,cv2.COLOR_BGR2GRAY)\n",
    "cv2.imshow(\"gray_img1\",gray_img1)"
   ]
  },
  {
   "cell_type": "code",
   "execution_count": 7,
   "metadata": {},
   "outputs": [
    {
     "data": {
      "text/plain": [
       "array([[33, 33, 33, ..., 33, 33, 33],\n",
       "       [33, 33, 33, ..., 33, 33, 33],\n",
       "       [33, 33, 33, ..., 33, 33, 33],\n",
       "       ...,\n",
       "       [13, 13, 13, ..., 27, 27, 27],\n",
       "       [13, 13, 13, ..., 27, 27, 27],\n",
       "       [13, 13, 13, ..., 27, 27, 27]], dtype=uint8)"
      ]
     },
     "execution_count": 7,
     "metadata": {},
     "output_type": "execute_result"
    }
   ],
   "source": [
    "gray_img1"
   ]
  },
  {
   "cell_type": "code",
   "execution_count": 8,
   "metadata": {},
   "outputs": [
    {
     "name": "stdout",
     "output_type": "stream",
     "text": [
      "gray_image1_shape= (1280, 720)\n"
     ]
    }
   ],
   "source": [
    "print(\"gray_image1_shape=\",gray_img1.shape)"
   ]
  },
  {
   "cell_type": "code",
   "execution_count": 9,
   "metadata": {},
   "outputs": [],
   "source": [
    "#gray image conversion \n",
    "#way -2\n",
    "gray_img2=cv2.imread(\"shivi.jpg\",0)\n",
    "cv2.imshow(\"gray_img2\",gray_img2)"
   ]
  },
  {
   "cell_type": "code",
   "execution_count": 10,
   "metadata": {},
   "outputs": [
    {
     "data": {
      "text/plain": [
       "array([[33, 33, 33, ..., 33, 33, 33],\n",
       "       [33, 33, 33, ..., 33, 33, 33],\n",
       "       [33, 33, 33, ..., 33, 33, 33],\n",
       "       ...,\n",
       "       [13, 13, 13, ..., 27, 27, 27],\n",
       "       [13, 13, 13, ..., 27, 27, 27],\n",
       "       [13, 13, 13, ..., 27, 27, 27]], dtype=uint8)"
      ]
     },
     "execution_count": 10,
     "metadata": {},
     "output_type": "execute_result"
    }
   ],
   "source": [
    "gray_img2"
   ]
  },
  {
   "cell_type": "code",
   "execution_count": 11,
   "metadata": {},
   "outputs": [
    {
     "name": "stdout",
     "output_type": "stream",
     "text": [
      "gray_image2_shape= (1280, 720)\n"
     ]
    }
   ],
   "source": [
    "print(\"gray_image2_shape=\",gray_img2.shape)"
   ]
  },
  {
   "cell_type": "code",
   "execution_count": 12,
   "metadata": {},
   "outputs": [
    {
     "data": {
      "text/plain": [
       "True"
      ]
     },
     "execution_count": 12,
     "metadata": {},
     "output_type": "execute_result"
    }
   ],
   "source": [
    "cv2.imwrite(\"rgb_image.jpg\",img)\n",
    "cv2.imwrite(\"gray_image1.jpg\",gray_img1)\n",
    "cv2.imwrite(\"gray_image2.jpg\",gray_img2)"
   ]
  },
  {
   "cell_type": "code",
   "execution_count": 13,
   "metadata": {},
   "outputs": [],
   "source": [
    "#binary image \n",
    "#black and white image \n",
    "#first convert it to gray image before converting to black and white image\n",
    "#so i will convert gray_img2 here\n",
    "#white- pixel=1 , black- pixel=0\n",
    "#threshold(image name,min val,max val,type of img want after conversion here wewe want binary)\n",
    "#return in form of tuple (stored in ret variable)\n",
    "ret, bw=cv2.threshold(gray_img2,127,255,cv2.THRESH_BINARY)\n",
    "cv2.imshow(\"binary_img\",bw)"
   ]
  },
  {
   "cell_type": "code",
   "execution_count": 14,
   "metadata": {},
   "outputs": [
    {
     "data": {
      "text/plain": [
       "array([[0, 0, 0, ..., 0, 0, 0],\n",
       "       [0, 0, 0, ..., 0, 0, 0],\n",
       "       [0, 0, 0, ..., 0, 0, 0],\n",
       "       ...,\n",
       "       [0, 0, 0, ..., 0, 0, 0],\n",
       "       [0, 0, 0, ..., 0, 0, 0],\n",
       "       [0, 0, 0, ..., 0, 0, 0]], dtype=uint8)"
      ]
     },
     "execution_count": 14,
     "metadata": {},
     "output_type": "execute_result"
    }
   ],
   "source": [
    "bw"
   ]
  },
  {
   "cell_type": "code",
   "execution_count": 15,
   "metadata": {},
   "outputs": [
    {
     "name": "stdout",
     "output_type": "stream",
     "text": [
      "binary_shape_image (1280, 720)\n"
     ]
    }
   ],
   "source": [
    "print(\"binary_shape_image\",bw.shape)"
   ]
  },
  {
   "cell_type": "code",
   "execution_count": 16,
   "metadata": {},
   "outputs": [
    {
     "data": {
      "text/plain": [
       "True"
      ]
     },
     "execution_count": 16,
     "metadata": {},
     "output_type": "execute_result"
    }
   ],
   "source": [
    "cv2.imwrite(\"blackandwhite_image.jpg\",bw)"
   ]
  },
  {
   "cell_type": "code",
   "execution_count": 17,
   "metadata": {},
   "outputs": [],
   "source": [
    "#conversion of rgb to hsv color\n",
    "#Hue:0-180(in degrees) ,Saturation:0-255 , Value:0-255\n",
    "img_hsv=cv2.cvtColor(img,cv2.COLOR_BGR2HSV)\n",
    "cv2.imshow(\"hsv_image.jpg\",img_hsv)\n",
    "cv2.imshow(\"hue_channel\",img_hsv[:,:,0])\n",
    "cv2.imshow(\"saturation_channel\",img_hsv[:,:,1])\n",
    "cv2.imshow(\"value_channel\",img_hsv[:,:,2])\n"
   ]
  },
  {
   "cell_type": "code",
   "execution_count": 18,
   "metadata": {},
   "outputs": [
    {
     "data": {
      "text/plain": [
       "array([[[  0,   0,  33],\n",
       "        [  0,   0,  33],\n",
       "        [  0,   0,  33],\n",
       "        ...,\n",
       "        [  0,   0,  33],\n",
       "        [  0,   0,  33],\n",
       "        [  0,   0,  33]],\n",
       "\n",
       "       [[  0,   0,  33],\n",
       "        [  0,   0,  33],\n",
       "        [  0,   0,  33],\n",
       "        ...,\n",
       "        [  0,   0,  33],\n",
       "        [  0,   0,  33],\n",
       "        [  0,   0,  33]],\n",
       "\n",
       "       [[  0,   0,  33],\n",
       "        [  0,   0,  33],\n",
       "        [  0,   0,  33],\n",
       "        ...,\n",
       "        [  0,   0,  33],\n",
       "        [  0,   0,  33],\n",
       "        [  0,   0,  33]],\n",
       "\n",
       "       ...,\n",
       "\n",
       "       [[ 98, 156,  18],\n",
       "        [ 98, 156,  18],\n",
       "        [ 98, 156,  18],\n",
       "        ...,\n",
       "        [108, 114,  38],\n",
       "        [108, 114,  38],\n",
       "        [108, 114,  38]],\n",
       "\n",
       "       [[ 98, 156,  18],\n",
       "        [ 98, 156,  18],\n",
       "        [ 98, 156,  18],\n",
       "        ...,\n",
       "        [108, 114,  38],\n",
       "        [108, 114,  38],\n",
       "        [108, 114,  38]],\n",
       "\n",
       "       [[ 98, 156,  18],\n",
       "        [ 98, 156,  18],\n",
       "        [ 98, 156,  18],\n",
       "        ...,\n",
       "        [108, 114,  38],\n",
       "        [108, 114,  38],\n",
       "        [108, 114,  38]]], dtype=uint8)"
      ]
     },
     "execution_count": 18,
     "metadata": {},
     "output_type": "execute_result"
    }
   ],
   "source": [
    "img_hsv"
   ]
  },
  {
   "cell_type": "code",
   "execution_count": 19,
   "metadata": {},
   "outputs": [
    {
     "name": "stdout",
     "output_type": "stream",
     "text": [
      "hsv_shape (1280, 720, 3)\n"
     ]
    }
   ],
   "source": [
    "print(\"hsv_shape\",img_hsv.shape)"
   ]
  },
  {
   "cell_type": "code",
   "execution_count": 20,
   "metadata": {},
   "outputs": [
    {
     "data": {
      "text/plain": [
       "True"
      ]
     },
     "execution_count": 20,
     "metadata": {},
     "output_type": "execute_result"
    }
   ],
   "source": [
    "cv2.imwrite(\"hsv_image.jpg\",img_hsv)"
   ]
  },
  {
   "cell_type": "code",
   "execution_count": 21,
   "metadata": {},
   "outputs": [
    {
     "name": "stdout",
     "output_type": "stream",
     "text": [
      "('hue_channel', array([[  0,   0,   0, ...,   0,   0,   0],\n",
      "       [  0,   0,   0, ...,   0,   0,   0],\n",
      "       [  0,   0,   0, ...,   0,   0,   0],\n",
      "       ...,\n",
      "       [ 98,  98,  98, ..., 108, 108, 108],\n",
      "       [ 98,  98,  98, ..., 108, 108, 108],\n",
      "       [ 98,  98,  98, ..., 108, 108, 108]], dtype=uint8))\n",
      "hue_channel_shape: (1280, 720)\n"
     ]
    }
   ],
   "source": [
    "print((\"hue_channel\",img_hsv[:,:,0]))\n",
    "print(\"hue_channel_shape:\",img_hsv[:,:,0].shape)"
   ]
  },
  {
   "cell_type": "code",
   "execution_count": 22,
   "metadata": {},
   "outputs": [
    {
     "name": "stdout",
     "output_type": "stream",
     "text": [
      "saturation_channel [[  0   0   0 ...   0   0   0]\n",
      " [  0   0   0 ...   0   0   0]\n",
      " [  0   0   0 ...   0   0   0]\n",
      " ...\n",
      " [156 156 156 ... 114 114 114]\n",
      " [156 156 156 ... 114 114 114]\n",
      " [156 156 156 ... 114 114 114]]\n",
      "saturation_channel_shape: (1280, 720)\n"
     ]
    }
   ],
   "source": [
    "print(\"saturation_channel\",img_hsv[:,:,1])\n",
    "print(\"saturation_channel_shape:\",img_hsv[:,:,1].shape)"
   ]
  },
  {
   "cell_type": "code",
   "execution_count": 23,
   "metadata": {},
   "outputs": [
    {
     "name": "stdout",
     "output_type": "stream",
     "text": [
      "value_channel [[33 33 33 ... 33 33 33]\n",
      " [33 33 33 ... 33 33 33]\n",
      " [33 33 33 ... 33 33 33]\n",
      " ...\n",
      " [18 18 18 ... 38 38 38]\n",
      " [18 18 18 ... 38 38 38]\n",
      " [18 18 18 ... 38 38 38]]\n",
      "value_channel_shape: (1280, 720)\n"
     ]
    }
   ],
   "source": [
    "print(\"value_channel\",img_hsv[:,:,2])\n",
    "print(\"value_channel_shape:\",img_hsv[:,:,2].shape)\n"
   ]
  },
  {
   "cell_type": "code",
   "execution_count": 24,
   "metadata": {},
   "outputs": [],
   "source": [
    "import numpy as np\n",
    "#extract r,g,b layers from rgb image\n",
    "B,G,R=cv2.split(img)\n",
    "#show width and height of image\n",
    "#unit-8 is unsigned int from (0,255)\n",
    "zeros=np.zeros(img.shape[:2],dtype=\"uint8\")\n",
    "#extracting red and keeping blue and green = zeros\n",
    "cv2.imshow(\"RED_channel\",cv2.merge([zeros,zeros,R]))\n",
    "cv2.imshow(\"GREEN_channel\",cv2.merge([zeros,G,zeros]))\n",
    "cv2.imshow(\"BLUE_channel\",cv2.merge([B,zeros,zeros]))\n"
   ]
  },
  {
   "cell_type": "code",
   "execution_count": 25,
   "metadata": {},
   "outputs": [
    {
     "data": {
      "text/plain": [
       "True"
      ]
     },
     "execution_count": 25,
     "metadata": {},
     "output_type": "execute_result"
    }
   ],
   "source": [
    "cv2.imwrite(\"RED_channel.jpg\",cv2.merge([zeros,zeros,R]))\n",
    "cv2.imwrite(\"GREEN_channel.jpg\",cv2.merge([zeros,G,zeros]))\n",
    "cv2.imwrite(\"BLUE_channel.jpg\",cv2.merge([B,zeros,zeros]))"
   ]
  },
  {
   "cell_type": "code",
   "execution_count": 26,
   "metadata": {},
   "outputs": [
    {
     "name": "stdout",
     "output_type": "stream",
     "text": [
      "[[[ 0  0 33]\n",
      "  [ 0  0 33]\n",
      "  [ 0  0 33]\n",
      "  ...\n",
      "  [ 0  0 33]\n",
      "  [ 0  0 33]\n",
      "  [ 0  0 33]]\n",
      "\n",
      " [[ 0  0 33]\n",
      "  [ 0  0 33]\n",
      "  [ 0  0 33]\n",
      "  ...\n",
      "  [ 0  0 33]\n",
      "  [ 0  0 33]\n",
      "  [ 0  0 33]]\n",
      "\n",
      " [[ 0  0 33]\n",
      "  [ 0  0 33]\n",
      "  [ 0  0 33]\n",
      "  ...\n",
      "  [ 0  0 33]\n",
      "  [ 0  0 33]\n",
      "  [ 0  0 33]]\n",
      "\n",
      " ...\n",
      "\n",
      " [[ 0  0  7]\n",
      "  [ 0  0  7]\n",
      "  [ 0  0  7]\n",
      "  ...\n",
      "  [ 0  0 21]\n",
      "  [ 0  0 21]\n",
      "  [ 0  0 21]]\n",
      "\n",
      " [[ 0  0  7]\n",
      "  [ 0  0  7]\n",
      "  [ 0  0  7]\n",
      "  ...\n",
      "  [ 0  0 21]\n",
      "  [ 0  0 21]\n",
      "  [ 0  0 21]]\n",
      "\n",
      " [[ 0  0  7]\n",
      "  [ 0  0  7]\n",
      "  [ 0  0  7]\n",
      "  ...\n",
      "  [ 0  0 21]\n",
      "  [ 0  0 21]\n",
      "  [ 0  0 21]]]\n",
      "(1280, 720, 3)\n"
     ]
    }
   ],
   "source": [
    "RED_channel=cv2.merge([zeros,zeros,R])\n",
    "print(RED_channel)\n",
    "print(RED_channel.shape)"
   ]
  },
  {
   "cell_type": "code",
   "execution_count": 27,
   "metadata": {},
   "outputs": [
    {
     "name": "stdout",
     "output_type": "stream",
     "text": [
      "[[[ 0 33  0]\n",
      "  [ 0 33  0]\n",
      "  [ 0 33  0]\n",
      "  ...\n",
      "  [ 0 33  0]\n",
      "  [ 0 33  0]\n",
      "  [ 0 33  0]]\n",
      "\n",
      " [[ 0 33  0]\n",
      "  [ 0 33  0]\n",
      "  [ 0 33  0]\n",
      "  ...\n",
      "  [ 0 33  0]\n",
      "  [ 0 33  0]\n",
      "  [ 0 33  0]]\n",
      "\n",
      " [[ 0 33  0]\n",
      "  [ 0 33  0]\n",
      "  [ 0 33  0]\n",
      "  ...\n",
      "  [ 0 33  0]\n",
      "  [ 0 33  0]\n",
      "  [ 0 33  0]]\n",
      "\n",
      " ...\n",
      "\n",
      " [[ 0 15  0]\n",
      "  [ 0 15  0]\n",
      "  [ 0 15  0]\n",
      "  ...\n",
      "  [ 0 28  0]\n",
      "  [ 0 28  0]\n",
      "  [ 0 28  0]]\n",
      "\n",
      " [[ 0 15  0]\n",
      "  [ 0 15  0]\n",
      "  [ 0 15  0]\n",
      "  ...\n",
      "  [ 0 28  0]\n",
      "  [ 0 28  0]\n",
      "  [ 0 28  0]]\n",
      "\n",
      " [[ 0 15  0]\n",
      "  [ 0 15  0]\n",
      "  [ 0 15  0]\n",
      "  ...\n",
      "  [ 0 28  0]\n",
      "  [ 0 28  0]\n",
      "  [ 0 28  0]]]\n",
      "(1280, 720, 3)\n"
     ]
    }
   ],
   "source": [
    "GREEN_channel=cv2.merge([zeros,G,zeros])\n",
    "print(GREEN_channel)\n",
    "print(GREEN_channel.shape)"
   ]
  },
  {
   "cell_type": "code",
   "execution_count": 28,
   "metadata": {},
   "outputs": [
    {
     "name": "stdout",
     "output_type": "stream",
     "text": [
      "[[[33  0  0]\n",
      "  [33  0  0]\n",
      "  [33  0  0]\n",
      "  ...\n",
      "  [33  0  0]\n",
      "  [33  0  0]\n",
      "  [33  0  0]]\n",
      "\n",
      " [[33  0  0]\n",
      "  [33  0  0]\n",
      "  [33  0  0]\n",
      "  ...\n",
      "  [33  0  0]\n",
      "  [33  0  0]\n",
      "  [33  0  0]]\n",
      "\n",
      " [[33  0  0]\n",
      "  [33  0  0]\n",
      "  [33  0  0]\n",
      "  ...\n",
      "  [33  0  0]\n",
      "  [33  0  0]\n",
      "  [33  0  0]]\n",
      "\n",
      " ...\n",
      "\n",
      " [[18  0  0]\n",
      "  [18  0  0]\n",
      "  [18  0  0]\n",
      "  ...\n",
      "  [38  0  0]\n",
      "  [38  0  0]\n",
      "  [38  0  0]]\n",
      "\n",
      " [[18  0  0]\n",
      "  [18  0  0]\n",
      "  [18  0  0]\n",
      "  ...\n",
      "  [38  0  0]\n",
      "  [38  0  0]\n",
      "  [38  0  0]]\n",
      "\n",
      " [[18  0  0]\n",
      "  [18  0  0]\n",
      "  [18  0  0]\n",
      "  ...\n",
      "  [38  0  0]\n",
      "  [38  0  0]\n",
      "  [38  0  0]]]\n",
      "(1280, 720, 3)\n"
     ]
    }
   ],
   "source": [
    "BLUE_channel=cv2.merge([B,zeros,zeros])\n",
    "print(BLUE_channel)\n",
    "print(BLUE_channel.shape)"
   ]
  },
  {
   "cell_type": "code",
   "execution_count": 29,
   "metadata": {},
   "outputs": [
    {
     "data": {
      "text/plain": [
       "True"
      ]
     },
     "execution_count": 29,
     "metadata": {},
     "output_type": "execute_result"
    }
   ],
   "source": [
    "cv2.imwrite(\"hue_channel.jpg\",img_hsv[:,:,0])\n",
    "cv2.imwrite(\"saturation_channel.jpg\",img_hsv[:,:,1])\n",
    "cv2.imwrite(\"value_channel.jpg\",img_hsv[:,:,2])"
   ]
  },
  {
   "cell_type": "code",
   "execution_count": 30,
   "metadata": {},
   "outputs": [
    {
     "data": {
      "text/plain": [
       "array([[33, 33, 33, ..., 33, 33, 33],\n",
       "       [33, 33, 33, ..., 33, 33, 33],\n",
       "       [33, 33, 33, ..., 33, 33, 33],\n",
       "       ...,\n",
       "       [18, 18, 18, ..., 38, 38, 38],\n",
       "       [18, 18, 18, ..., 38, 38, 38],\n",
       "       [18, 18, 18, ..., 38, 38, 38]], dtype=uint8)"
      ]
     },
     "execution_count": 30,
     "metadata": {},
     "output_type": "execute_result"
    }
   ],
   "source": [
    "B"
   ]
  },
  {
   "cell_type": "code",
   "execution_count": 31,
   "metadata": {},
   "outputs": [
    {
     "data": {
      "text/plain": [
       "array([[33, 33, 33, ..., 33, 33, 33],\n",
       "       [33, 33, 33, ..., 33, 33, 33],\n",
       "       [33, 33, 33, ..., 33, 33, 33],\n",
       "       ...,\n",
       "       [15, 15, 15, ..., 28, 28, 28],\n",
       "       [15, 15, 15, ..., 28, 28, 28],\n",
       "       [15, 15, 15, ..., 28, 28, 28]], dtype=uint8)"
      ]
     },
     "execution_count": 31,
     "metadata": {},
     "output_type": "execute_result"
    }
   ],
   "source": [
    "G"
   ]
  },
  {
   "cell_type": "code",
   "execution_count": 32,
   "metadata": {},
   "outputs": [
    {
     "data": {
      "text/plain": [
       "array([[33, 33, 33, ..., 33, 33, 33],\n",
       "       [33, 33, 33, ..., 33, 33, 33],\n",
       "       [33, 33, 33, ..., 33, 33, 33],\n",
       "       ...,\n",
       "       [ 7,  7,  7, ..., 21, 21, 21],\n",
       "       [ 7,  7,  7, ..., 21, 21, 21],\n",
       "       [ 7,  7,  7, ..., 21, 21, 21]], dtype=uint8)"
      ]
     },
     "execution_count": 32,
     "metadata": {},
     "output_type": "execute_result"
    }
   ],
   "source": [
    "R"
   ]
  },
  {
   "cell_type": "code",
   "execution_count": 33,
   "metadata": {},
   "outputs": [
    {
     "data": {
      "text/plain": [
       "(1280, 720)"
      ]
     },
     "execution_count": 33,
     "metadata": {},
     "output_type": "execute_result"
    }
   ],
   "source": [
    "B.shape"
   ]
  },
  {
   "cell_type": "code",
   "execution_count": 34,
   "metadata": {},
   "outputs": [
    {
     "data": {
      "text/plain": [
       "(1280, 720)"
      ]
     },
     "execution_count": 34,
     "metadata": {},
     "output_type": "execute_result"
    }
   ],
   "source": [
    "R.shape"
   ]
  },
  {
   "cell_type": "code",
   "execution_count": 35,
   "metadata": {},
   "outputs": [
    {
     "data": {
      "text/plain": [
       "(1280, 720)"
      ]
     },
     "execution_count": 35,
     "metadata": {},
     "output_type": "execute_result"
    }
   ],
   "source": [
    "G.shape"
   ]
  },
  {
   "cell_type": "code",
   "execution_count": 36,
   "metadata": {},
   "outputs": [
    {
     "name": "stdout",
     "output_type": "stream",
     "text": [
      "1280\n",
      "720\n"
     ]
    }
   ],
   "source": [
    "#IMAGE TRANSLATION\n",
    "height,width=img.shape[:2]\n",
    "print(height)\n",
    "print(width)"
   ]
  },
  {
   "cell_type": "code",
   "execution_count": 37,
   "metadata": {},
   "outputs": [
    {
     "name": "stdout",
     "output_type": "stream",
     "text": [
      "320.0\n",
      "180.0\n"
     ]
    }
   ],
   "source": [
    "quarter_height,quarter_width=height/4,width/4\n",
    "print(quarter_height)\n",
    "print(quarter_width)"
   ]
  },
  {
   "cell_type": "code",
   "execution_count": 38,
   "metadata": {},
   "outputs": [
    {
     "name": "stdout",
     "output_type": "stream",
     "text": [
      "[[  1.   0. 180.]\n",
      " [  0.   1. 320.]]\n"
     ]
    }
   ],
   "source": [
    "#translational matrix(t)=[1,0,tx]\n",
    "#                        [0,1,ty]\n",
    "t=np.float32([[1,0,quarter_width],\n",
    "             [0,1,quarter_height]])\n",
    "print(t)"
   ]
  },
  {
   "cell_type": "code",
   "execution_count": 39,
   "metadata": {},
   "outputs": [
    {
     "data": {
      "text/plain": [
       "True"
      ]
     },
     "execution_count": 39,
     "metadata": {},
     "output_type": "execute_result"
    }
   ],
   "source": [
    "#use warpAffine transformation to shift image\n",
    "#applied on linear images in which width and height pixels are parallel#\n",
    "#warpAffine(image,translation matrix,originl_width,original_height)\n",
    "img_translation=cv2.warpAffine(img,t,(width,height))\n",
    "cv2.imshow(\"translation\",img_translation)\n",
    "cv2.imwrite(\"translation.jpg\",img_translation)"
   ]
  },
  {
   "cell_type": "code",
   "execution_count": 40,
   "metadata": {},
   "outputs": [
    {
     "data": {
      "text/plain": [
       "True"
      ]
     },
     "execution_count": 40,
     "metadata": {},
     "output_type": "execute_result"
    }
   ],
   "source": [
    "#ROTATION\n",
    "#scaling factor=0.7\n",
    "rotation_matrix=cv2.getRotationMatrix2D((width/2,height/2),70,.7)\n",
    "rotated_img=cv2.warpAffine(img,rotation_matrix,(width,height))\n",
    "cv2.imshow(\"rotated_image\",rotated_img)\n",
    "cv2.imwrite(\"rotated_image.jpg\",rotated_img)"
   ]
  },
  {
   "cell_type": "code",
   "execution_count": 41,
   "metadata": {},
   "outputs": [
    {
     "data": {
      "text/plain": [
       "True"
      ]
     },
     "execution_count": 41,
     "metadata": {},
     "output_type": "execute_result"
    }
   ],
   "source": [
    "#TRANSPOSE by 90'\n",
    "transpose_img=cv2.transpose(img)\n",
    "cv2.imshow(\"transport_image\",transpose_img)\n",
    "cv2.imwrite(\"transpose_image.jpg\",transpose_img)\n"
   ]
  },
  {
   "cell_type": "code",
   "execution_count": 42,
   "metadata": {},
   "outputs": [],
   "source": [
    "import tensorflow as tf\n",
    "import numpy as np\n",
    "import matplotlib.pyplot as plt"
   ]
  },
  {
   "cell_type": "code",
   "execution_count": 43,
   "metadata": {},
   "outputs": [],
   "source": [
    "x_data=np.random.randn(1000)\n",
    "w_real=0.7\n",
    "b_real=0.2\n",
    "noise=np.random.randn(1000)*0.1\n",
    "y_data=np.multiply(w_real,x_data)+b_real+noise\n"
   ]
  },
  {
   "cell_type": "code",
   "execution_count": 44,
   "metadata": {},
   "outputs": [
    {
     "data": {
      "text/plain": [
       "<matplotlib.collections.PathCollection at 0x7f59daa69c50>"
      ]
     },
     "execution_count": 44,
     "metadata": {},
     "output_type": "execute_result"
    },
    {
     "data": {
      "image/png": "[encoded data removed]",
      "text/plain": [
       "<Figure size 432x288 with 1 Axes>"
      ]
     },
     "metadata": {
      "needs_background": "light"
     },
     "output_type": "display_data"
    }
   ],
   "source": [
    "plt.scatter(x_data,y_data)"
   ]
  },
  {
   "cell_type": "code",
   "execution_count": 45,
   "metadata": {},
   "outputs": [],
   "source": [
    "x=tf.placeholder(dtype=tf.float32)\n",
    "y_true=tf.placeholder(dtype=tf.float32)"
   ]
  },
  {
   "cell_type": "code",
   "execution_count": 46,
   "metadata": {},
   "outputs": [],
   "source": [
    "feed_dict1={x:x_data,y_true:y_data}"
   ]
  },
  {
   "cell_type": "code",
   "execution_count": 47,
   "metadata": {},
   "outputs": [],
   "source": [
    "w=tf.Variable(np.random.randn(),tf.float32,name=\"weight\")\n",
    "b=tf.Variable(np.random.randn(),tf.float32,name=\"bias\")"
   ]
  },
  {
   "cell_type": "code",
   "execution_count": 48,
   "metadata": {},
   "outputs": [],
   "source": [
    "y_pred=(w*x)+b"
   ]
  },
  {
   "cell_type": "code",
   "execution_count": 49,
   "metadata": {},
   "outputs": [],
   "source": [
    "loss=tf.reduce_mean(tf.square(y_true-y_pred))"
   ]
  },
  {
   "cell_type": "code",
   "execution_count": 50,
   "metadata": {},
   "outputs": [],
   "source": [
    "optimizer=tf.train.GradientDescentOptimizer(0.01)\n",
    "train=optimizer.minimize(loss)"
   ]
  },
  {
   "cell_type": "code",
   "execution_count": 51,
   "metadata": {},
   "outputs": [],
   "source": [
    "init=tf.global_variables_initializer()"
   ]
  },
  {
   "cell_type": "code",
   "execution_count": 52,
   "metadata": {},
   "outputs": [],
   "source": [
    "sess=tf.Session()"
   ]
  },
  {
   "cell_type": "code",
   "execution_count": 53,
   "metadata": {},
   "outputs": [],
   "source": [
    "sess.run(init)"
   ]
  },
  {
   "cell_type": "code",
   "execution_count": 54,
   "metadata": {},
   "outputs": [
    {
     "name": "stdout",
     "output_type": "stream",
     "text": [
      "steps:0 cost:0.3717888593673706 weights:0.5083100199699402  bias:-0.37944942712783813\n",
      "steps:50 cost:0.06260646134614944 weights:0.6166704297065735  bias:-0.014704493805766106\n",
      "steps:100 cost:0.018274685367941856 weights:0.6662057042121887  bias:0.12067433446645737\n",
      "steps:150 cost:0.011822310276329517 weights:0.6881755590438843  bias:0.17112192511558533\n",
      "steps:200 cost:0.010870098136365414 weights:0.6977131962776184  bias:0.18999624252319336\n",
      "steps:250 cost:0.010727813467383385 weights:0.7017886638641357  bias:0.19708622992038727\n",
      "steps:300 cost:0.010706319473683834 weights:0.7035091519355774  bias:0.1997600644826889\n",
      "steps:350 cost:0.010703044012188911 weights:0.7042285799980164  bias:0.20077241957187653\n",
      "steps:400 cost:0.01070253923535347 weights:0.7045270800590515  bias:0.20115716755390167\n",
      "steps:450 cost:0.010702461004257202 weights:0.7046504020690918  bias:0.20130392909049988\n",
      "steps:500 cost:0.010702450759708881 weights:0.7047008275985718  bias:0.20136012136936188\n",
      "steps:550 cost:0.010702449828386307 weights:0.7047215104103088  bias:0.20138171315193176\n",
      "steps:600 cost:0.010702447034418583 weights:0.7047298550605774  bias:0.20139001309871674\n",
      "steps:650 cost:0.010702446103096008 weights:0.7047332525253296  bias:0.2013932317495346\n",
      "steps:700 cost:0.010702447965741158 weights:0.7047340273857117  bias:0.20139440894126892\n",
      "steps:750 cost:0.010702447965741158 weights:0.7047340273857117  bias:0.20139482617378235\n",
      "steps:800 cost:0.010702447965741158 weights:0.7047340273857117  bias:0.20139482617378235\n",
      "steps:850 cost:0.010702447965741158 weights:0.7047340273857117  bias:0.20139482617378235\n",
      "steps:900 cost:0.010702447965741158 weights:0.7047340273857117  bias:0.20139482617378235\n",
      "steps:950 cost:0.010702447965741158 weights:0.7047340273857117  bias:0.20139482617378235\n"
     ]
    }
   ],
   "source": [
    "num_steps=1000\n",
    "for steps in range(num_steps):\n",
    "    sess.run(train,feed_dict=feed_dict1)\n",
    "    if steps%50==0:\n",
    "        cost=sess.run(loss,feed_dict=feed_dict1)\n",
    "        print(\"steps:{0} cost:{1} weights:{2}  bias:{3}\".format(steps,cost,sess.run(w),sess.run(b)))"
   ]
  },
  {
   "cell_type": "code",
   "execution_count": 55,
   "metadata": {},
   "outputs": [
    {
     "data": {
      "image/png": "[encoded data removed]",
      "text/plain": [
       "<Figure size 432x288 with 1 Axes>"
      ]
     },
     "metadata": {
      "needs_background": "light"
     },
     "output_type": "display_data"
    }
   ],
   "source": [
    "training_loss=sess.run(loss,feed_dict1)\n",
    "trained_weight=sess.run(w)\n",
    "trained_bias=sess.run(b)\n",
    "pred=(trained_weight*x_data)+trained_bias\n",
    "\n",
    "plt.scatter(x_data,y_data,color='r',label='dataset')\n",
    "plt.plot(x_data,pred,color='g',label='fittedline')\n",
    "plt.legend()\n",
    "plt.show()"
   ]
  },
  {
   "cell_type": "code",
   "execution_count": 56,
   "metadata": {},
   "outputs": [
    {
     "data": {
      "text/plain": [
       "True"
      ]
     },
     "execution_count": 56,
     "metadata": {},
     "output_type": "execute_result"
    }
   ],
   "source": [
    "#SCALING-1(to reduce image)(interpolation=INTER_LINEAR)\n",
    "#fxandfy=0.1 means scaled 90% and remaining image is 0.1\n",
    "img_scaled1=cv2.resize(img,None,fx=0.1,fy=0.1)\n",
    "cv2.imshow(\"scaled_image1\",img_scaled1)\n",
    "cv2.imwrite(\"scaled_linear_interpolation_image1.jpg\",img_scaled1)"
   ]
  },
  {
   "cell_type": "code",
   "execution_count": 57,
   "metadata": {},
   "outputs": [
    {
     "data": {
      "text/plain": [
       "True"
      ]
     },
     "execution_count": 57,
     "metadata": {},
     "output_type": "execute_result"
    }
   ],
   "source": [
    "#SCALING-2 (to expand image)(interpolation=INTER_CUBIC)\n",
    "img_scaled2=cv2.resize(img,None,fx=2,fy=2,interpolation=cv2.INTER_CUBIC)\n",
    "cv2.imshow(\"scaled_image2\",img_scaled2)\n",
    "cv2.imwrite(\"scaled_cubic_interpolation_image2.jpg\",img_scaled2)"
   ]
  },
  {
   "cell_type": "code",
   "execution_count": 58,
   "metadata": {},
   "outputs": [
    {
     "data": {
      "text/plain": [
       "True"
      ]
     },
     "execution_count": 58,
     "metadata": {},
     "output_type": "execute_result"
    }
   ],
   "source": [
    "#SCALING-3 (interpolation= INTER_AREA)(to skew image)\n",
    "#stretching image (width=900,height=400)\n",
    "img_scaled3=cv2.resize(img,(900,400),interpolation=cv2.INTER_AREA)\n",
    "cv2.imshow(\"scaled_image3\",img_scaled3)\n",
    "cv2.imwrite(\"scaled_skew_size_interpolation_image3.jpg\",img_scaled3)"
   ]
  },
  {
   "cell_type": "code",
   "execution_count": 59,
   "metadata": {},
   "outputs": [
    {
     "data": {
      "text/plain": [
       "True"
      ]
     },
     "execution_count": 59,
     "metadata": {},
     "output_type": "execute_result"
    }
   ],
   "source": [
    "#IMAGE RESIZING USING IMAGE PYRAMID \n",
    "#pyrDown\n",
    "img_pyramid_smaller=cv2.pyrDown(img)\n",
    "cv2.imshow(\"img_pyramid_smaller\",img_pyramid_smaller)\n",
    "cv2.imwrite(\"img_pyramid_smaller.jpg\",img_pyramid_smaller)\n",
    "#pyrUp\n",
    "img_pyramid_larger=cv2.pyrUp(img)\n",
    "cv2.imshow(\"img_pyramid_larger\",img_pyramid_larger)\n",
    "cv2.imwrite(\"img_pyramid_larger.jpg\",img_pyramid_larger)"
   ]
  },
  {
   "cell_type": "code",
   "execution_count": 60,
   "metadata": {},
   "outputs": [
    {
     "data": {
      "text/plain": [
       "True"
      ]
     },
     "execution_count": 60,
     "metadata": {},
     "output_type": "execute_result"
    }
   ],
   "source": [
    "#IMAGE CROPPING\n",
    "#get original height and width of image\n",
    "height,width=img.shape[:2]\n",
    "#get top left pixels i.e starting row and strating col of cropping window\n",
    "start_row,start_col=int(height*0.25),int(width*0.25)\n",
    "#get bottom right pixels i.e ending row and ending col of cropping window\n",
    "end_row,end_col=int(height*0.45),int(width*0.85)\n",
    "img_cropped=img[start_row:end_row,start_col:end_col]\n",
    "cv2.imshow(\"img_cropped\",img_cropped)\n",
    "cv2.imwrite(\"img_cropped.jpg\",img_cropped)"
   ]
  },
  {
   "cell_type": "code",
   "execution_count": 61,
   "metadata": {},
   "outputs": [
    {
     "data": {
      "text/plain": [
       "True"
      ]
     },
     "execution_count": 61,
     "metadata": {},
     "output_type": "execute_result"
    }
   ],
   "source": [
    "#IMAGE ARITHMETICS\n",
    "import numpy as np\n",
    "matrix=np.ones(img.shape,dtype=\"uint8\")*150\n",
    "#adding 150 pixels to each pixel of image\n",
    "added=cv2.add(img,matrix)\n",
    "cv2.imshow(\"added_image\",added)\n",
    "cv2.imwrite(\"added_image.jpg\",added)\n",
    "#subtracting 150 pixels from each pixel of image\n",
    "subtracted=cv2.subtract(img,matrix)\n",
    "cv2.imshow(\"subtracted_image\",subtracted)\n",
    "cv2.imwrite(\"subtracted_image.jpg\",subtracted)\n",
    "#multiplying by150 each\n",
    "multiplied=cv2.multiply(img,matrix)\n",
    "cv2.imshow(\"multiplied_image\",multiplied)\n",
    "cv2.imwrite(\"multiplied_image.jpg\",multiplied)\n"
   ]
  },
  {
   "cell_type": "code",
   "execution_count": 62,
   "metadata": {},
   "outputs": [
    {
     "data": {
      "text/plain": [
       "True"
      ]
     },
     "execution_count": 62,
     "metadata": {},
     "output_type": "execute_result"
    }
   ],
   "source": [
    "#IMAGE BITWISE OPERATION\n",
    "#SQAURE#\n",
    "#np.zeros give black image created \n",
    "square=np.zeros((300,300),np.uint8)\n",
    "#-1 to completely fill image inside\n",
    "cv2.rectangle(square,(50,50),(250,250),255,-1)\n",
    "cv2.imshow(\"square\",square)\n",
    "cv2.imwrite(\"square.jpg\",square)\n",
    "#ELLIPSE#\n",
    "ellipse=np.zeros((300,300),np.uint8)\n",
    "cv2.ellipse(ellipse,(150,150),(150,150),30,0,180,255,-1)\n",
    "cv2.imshow(\"ellipse\",ellipse)\n",
    "cv2.imwrite(\"ellipse.jpg\",ellipse)\n",
    "\n",
    "#ANDING OF SQUARE AND ELLIPSE\n",
    "And=cv2.bitwise_and(square,ellipse)\n",
    "cv2.imshow(\"anded_image_of_ellipse_And_square\",And)\n",
    "cv2.imwrite(\"anded_image_of_ellipse_And_square.jpg\",And)\n",
    "#ORING OF SQUARE AND ELLIPSE\n",
    "Or=cv2.bitwise_or(square,ellipse)\n",
    "cv2.imshow(\"or_image_of_ellipse_And_square\",Or)\n",
    "cv2.imwrite(\"or_image_of_ellipse_And_square.jpg\",Or)\n",
    "#E-XORING OF SQUARE AND ELLIPSE\n",
    "Xor=cv2.bitwise_xor(square,ellipse)\n",
    "cv2.imshow(\"xor_image_of_ellipse_And_square\",Xor)\n",
    "cv2.imwrite(\"xor_image_of_ellipse_And_square.jpg\",Xor)\n",
    "#NOTOF SQUARE \n",
    "Not=cv2.bitwise_not(square)\n",
    "cv2.imshow(\"not_image_of_ellipse_And_square\",Not)\n",
    "cv2.imwrite(\"not_image_of_ellipse_And_square.jpg\",Not)\n",
    "\n"
   ]
  },
  {
   "cell_type": "code",
   "execution_count": 63,
   "metadata": {},
   "outputs": [
    {
     "data": {
      "text/plain": [
       "True"
      ]
     },
     "execution_count": 63,
     "metadata": {},
     "output_type": "execute_result"
    }
   ],
   "source": [
    "#BLURRING\n",
    "#creating filter matrix kernel 3x3\n",
    "kernel_10x10=np.ones((10,10),np.float32)/100\n",
    "#blurring \n",
    "blurred=cv2.filter2D(img,-1,kernel_10x10)\n",
    "cv2.imshow(\"blurred_image\",blurred)\n",
    "cv2.imwrite(\"blurred_image.jpg\",blurred)\n",
    "\n"
   ]
  },
  {
   "cell_type": "code",
   "execution_count": 64,
   "metadata": {},
   "outputs": [
    {
     "data": {
      "text/plain": [
       "True"
      ]
     },
     "execution_count": 64,
     "metadata": {},
     "output_type": "execute_result"
    }
   ],
   "source": [
    "#BLURRING-2\n",
    "##normalize box filter replace central element of box##\n",
    "#box size is odd and positive\n",
    "blur=cv2.blur(img,(3,3))\n",
    "cv2.imshow(\"blur_image1\",blur)\n",
    "cv2.imwrite(\"blur_image1.jpg\",blur)\n",
    "##using gausiian filter#\n",
    "gaussian=cv2.GaussianBlur(img,(7,7),0)\n",
    "cv2.imshow(\"gaussian_blur_image\",gaussian)\n",
    "cv2.imwrite(\"gaussian_blur_image.jpg\",gaussian)\n",
    "##using median blur##\n",
    "#replace central element with median value\n",
    "#best filter\n",
    "median=cv2.medianBlur(img,5)\n",
    "cv2.imshow(\"median_blur_image\",median)\n",
    "cv2.imwrite(\"median_blur_image.jpg\",median)\n",
    "##bilateral filter\n",
    "#noise removal\n",
    "#(sigma color and sigma space)\n",
    "bilateral=cv2.bilateralFilter(img,9,75,75)\n",
    "cv2.imshow(\"bilateral_blur_image\",bilateral)\n",
    "cv2.imwrite(\"bilateral_blur_image.jpg\",bilateral)\n",
    "\n",
    "\n",
    "\n",
    "\n",
    "\n"
   ]
  },
  {
   "cell_type": "code",
   "execution_count": 67,
   "metadata": {},
   "outputs": [
    {
     "data": {
      "text/plain": [
       "True"
      ]
     },
     "execution_count": 67,
     "metadata": {},
     "output_type": "execute_result"
    }
   ],
   "source": [
    "#EDGE DETECTION\n",
    "height,width=gray_img2.shape\n",
    "#extract slop edges\n",
    "#cv2.Sobel(gray_img2,type=(float of 64 bit),widthpixels=1,heightpixels=0),ksize=5x5)\n",
    "sobel_x=cv2.Sobel(gray_img2,cv2.CV_64F,1,0,ksize=5)\n",
    "sobel_y=cv2.Sobel(gray_img2,cv2.CV_64F,0,1,ksize=5)\n",
    "cv2.imshow(\"sobel_x_edge_image\",sobel_x)\n",
    "cv2.imwrite(\"sobel_x_edge_image.jpg\",sobel_x)\n",
    "cv2.imshow(\"sobel_y_edge_image\",sobel_y)\n",
    "cv2.imwrite(\"sobel_y_edge_image.jpg\",sobel_y)\n",
    "#BITWISE ORING IN EDGE DETECTION\n",
    "sobel_oring=cv2.bitwise_or(sobel_x,sobel_y)\n",
    "cv2.imshow(\"sobel_oring_edge_image\",sobel_oring)\n",
    "cv2.imwrite(\"sobel_oring_edge_image.jpg\",sobel_oring)\n",
    "#LAPLACIAN\n",
    "laplacian=cv2.Laplacian(gray_img2,cv2.CV_64F)\n",
    "cv2.imshow(\"sobel_laplacian_edge_image\",laplacian)\n",
    "cv2.imwrite(\"sobel_laplacian_edge_image.jpg\",laplacian)\n",
    "#CANNY EDGE DETECTION\n",
    "#uses gradient values and thresholds\n",
    "canny=cv2.Canny(gray_img2,20,170)\n",
    "cv2.imshow(\"sobel_canny_edge_image\",canny)\n",
    "cv2.imwrite(\"sobel_canny_edge_image.jpg\",canny)"
   ]
  },
  {
   "cell_type": "code",
   "execution_count": 2,
   "metadata": {},
   "outputs": [],
   "source": [
    "import cv2\n",
    "cap = cv2.VideoCapture(0)"
   ]
  },
  {
   "cell_type": "code",
   "execution_count": null,
   "metadata": {},
   "outputs": [],
   "source": [
    "def sketch(image):\n",
    "    img_grey=cv2.cvtColor(image,cv2.COLOR_BGR2GRAY)\n",
    "    img_grey_blur = cv2.GaussianBlur(img_grey(5,5),0)\n",
    "    canny_edge_img=cv2.Cany(img_grey_blur,10,70)\n",
    "    ret,mask=cv2.threshold(Canny_edge_img,70,255,cv2.THRESH_BINARY)\n",
    "    ret mask\n",
    "while True:\n",
    "    ret,frame1=cap.read()\n",
    "    cv2.imshow('hello',frame1)\n",
    "    if cv2.waitKey(1)== 13:\n",
    "        break\n",
    "cap.release()\n",
    "#cv2.DestroyAllWindows()"
   ]
  },
  {
   "cell_type": "code",
   "execution_count": null,
   "metadata": {},
   "outputs": [],
   "source": []
  }
 ],
 "metadata": {
  "kernelspec": {
   "display_name": "Python 3",
   "language": "python",
   "name": "python3"
  },
  "language_info": {
   "codemirror_mode": {
    "name": "ipython",
    "version": 3
   },
   "file_extension": ".py",
   "mimetype": "text/x-python",
   "name": "python",
   "nbconvert_exporter": "python",
   "pygments_lexer": "ipython3",
   "version": "3.5.2"
  }
 },
 "nbformat": 4,
 "nbformat_minor": 2
}
